{
 "cells": [
  {
   "cell_type": "markdown",
   "metadata": {},
   "source": [
    "# Strategy"
   ]
  },
  {
   "cell_type": "markdown",
   "metadata": {},
   "source": [
    "## Import libraries"
   ]
  },
  {
   "cell_type": "code",
   "execution_count": 1,
   "metadata": {},
   "outputs": [],
   "source": [
    "import numpy as np\n",
    "import pandas as pd\n",
    "import matplotlib as plt\n",
    "import matplotlib.pyplot as plt\n",
    "import seaborn as sns\n",
    "import backtesting as bck\n",
    "from plotly import tools\n",
    "from plotly.graph_objs import *\n",
    "from plotly.offline import init_notebook_mode, iplot, iplot_mpl\n",
    "import datetime as dt\n",
    "from pandas_datareader.yahoo.fx import YahooFXReader\n",
    "from backtesting import Strategy\n",
    "from backtesting.lib import crossover\n",
    "from backtesting.lib import SignalStrategy, TrailingStrategy\n",
    "from backtesting import Backtest\n",
    "from scipy.signal import argrelextrema"
   ]
  },
  {
   "cell_type": "markdown",
   "metadata": {},
   "source": [
    "## Strategy"
   ]
  },
  {
   "cell_type": "markdown",
   "metadata": {},
   "source": [
    "### Define Functions"
   ]
  },
  {
   "cell_type": "code",
   "execution_count": 2,
   "metadata": {},
   "outputs": [],
   "source": [
    "# define moving average\n",
    "def SMA(values, n):\n",
    "    return pd.Series(values).rolling(n).mean() \n"
   ]
  },
  {
   "cell_type": "code",
   "execution_count": 3,
   "metadata": {},
   "outputs": [],
   "source": [
    "# define upper Bollinger band\n",
    "def STD_upper(values, n, n_std): # definire funzione\n",
    "    return pd.Series(values).rolling(n).mean() + n_std * pd.Series(values).rolling(n).std() "
   ]
  },
  {
   "cell_type": "code",
   "execution_count": 4,
   "metadata": {},
   "outputs": [],
   "source": [
    "# define lower Bollinger band\n",
    "def STD_lower(values, n, n_std): \n",
    "    return pd.Series(values).rolling(n).mean() - n_std * pd.Series(values).rolling(n).std() "
   ]
  },
  {
   "cell_type": "code",
   "execution_count": 5,
   "metadata": {},
   "outputs": [],
   "source": [
    "# define support\n",
    "def support(values, n):\n",
    "    df = pd.DataFrame(values, columns=['Close']) # used dataframe to store values because of the use of argrelextrema\n",
    "    df['support'] = df.iloc[argrelextrema(df['Close'].values, np.less_equal, order=n)[0]]['Close']\n",
    "    df['support'] = df['support'].fillna(method='ffill') # argrlextrema returns NaN values, so fill them with the previous value\n",
    "    return df['support'].values"
   ]
  },
  {
   "cell_type": "code",
   "execution_count": 6,
   "metadata": {},
   "outputs": [],
   "source": [
    "# define resistance\n",
    "def resistance(values, n):\n",
    "    df = pd.DataFrame(values, columns=['Close'])\n",
    "    df['resistance'] = df.iloc[argrelextrema(df['Close'].values, np.greater_equal, order=n)[0]]['Close']\n",
    "    df['resistance'] = df['resistance'].fillna(method='ffill')\n",
    "    return df['resistance'].values"
   ]
  },
  {
   "cell_type": "markdown",
   "metadata": {},
   "source": [
    "#### Bollinger (close position at std)"
   ]
  },
  {
   "cell_type": "code",
   "execution_count": 7,
   "metadata": {},
   "outputs": [],
   "source": [
    "# define Bollinger-SupportResistance strategy\n",
    "class BollingerSrMean(TrailingStrategy): # child class of TrailingStrategy (to add trailing stop loss)\n",
    "\n",
    "    # parameters are already optimized\n",
    "    horizon = 30 # 20\n",
    "    n_std_upper = 3 # 2.4 or full train 2.6\n",
    "    n_std_lower = 2.8 # 2.2 or full train 2.6\n",
    "    stop_loss = 7\n",
    "    n = 10\n",
    "    # or training on last two years before the test set:\n",
    "    # horizon=30,stop_loss=7,n_std_upper=2.9999999999999996,n_std_lower=2.8,n=10)\n",
    "\n",
    "    def init(self):\n",
    "\n",
    "      super().init() # call parent class (TrailingStrategy)\n",
    "      self.sma = self.I(SMA, self.data.Close, self.horizon) # simple moving average\n",
    "      self.upper = self.I(STD_upper, self.data.Close, self.horizon, self.n_std_upper) # upper band\n",
    "      self.lower = self.I(STD_lower, self.data.Close, self.horizon, self.n_std_lower) # lower band\n",
    "      self.support = self.I(support, self.data.Close, self.n) # support\n",
    "      self.resistance = self.I(resistance, self.data.Close, self.n) # resistance   \n",
    "      self.set_trailing_sl(self.stop_loss) # stop loss\n",
    "\n",
    "\n",
    "    def next(self): \n",
    "      super().next() # call parent class (TrailingStrategy)\n",
    "      \n",
    "      if crossover(self.lower, self.data.Close) and self.data.Close[-1] >= self.support[-1]: # if price close falls below the lower band and the close price is above the support...\n",
    "        self.position.close() # close position\n",
    "        self.buy() # buy\n",
    "\n",
    "      elif crossover(self.data.Close, self.upper) and self.data.Close[-1] <= self.resistance[-1]: # if price close rises above the upper band and the close price is below the resistance...\n",
    "        self.position.close() # close position\n",
    "        self.sell() # sell\n",
    "\n"
   ]
  },
  {
   "cell_type": "markdown",
   "metadata": {},
   "source": [
    "### Import Data"
   ]
  },
  {
   "cell_type": "code",
   "execution_count": 8,
   "metadata": {},
   "outputs": [
    {
     "data": {
      "text/html": [
       "<div>\n",
       "<style scoped>\n",
       "    .dataframe tbody tr th:only-of-type {\n",
       "        vertical-align: middle;\n",
       "    }\n",
       "\n",
       "    .dataframe tbody tr th {\n",
       "        vertical-align: top;\n",
       "    }\n",
       "\n",
       "    .dataframe thead th {\n",
       "        text-align: right;\n",
       "    }\n",
       "</style>\n",
       "<table border=\"1\" class=\"dataframe\">\n",
       "  <thead>\n",
       "    <tr style=\"text-align: right;\">\n",
       "      <th></th>\n",
       "      <th>Date</th>\n",
       "      <th>Time</th>\n",
       "      <th>Open</th>\n",
       "      <th>High</th>\n",
       "      <th>Low</th>\n",
       "      <th>Close</th>\n",
       "      <th>Up</th>\n",
       "      <th>Down</th>\n",
       "    </tr>\n",
       "  </thead>\n",
       "  <tbody>\n",
       "    <tr>\n",
       "      <th>0</th>\n",
       "      <td>10/21/2002</td>\n",
       "      <td>08:30</td>\n",
       "      <td>10.3397</td>\n",
       "      <td>10.3497</td>\n",
       "      <td>10.3147</td>\n",
       "      <td>10.3167</td>\n",
       "      <td>0</td>\n",
       "      <td>0</td>\n",
       "    </tr>\n",
       "    <tr>\n",
       "      <th>1</th>\n",
       "      <td>10/21/2002</td>\n",
       "      <td>09:00</td>\n",
       "      <td>10.3397</td>\n",
       "      <td>10.3397</td>\n",
       "      <td>10.2867</td>\n",
       "      <td>10.3197</td>\n",
       "      <td>0</td>\n",
       "      <td>0</td>\n",
       "    </tr>\n",
       "    <tr>\n",
       "      <th>2</th>\n",
       "      <td>10/21/2002</td>\n",
       "      <td>09:30</td>\n",
       "      <td>10.2997</td>\n",
       "      <td>10.3452</td>\n",
       "      <td>10.2997</td>\n",
       "      <td>10.3197</td>\n",
       "      <td>0</td>\n",
       "      <td>0</td>\n",
       "    </tr>\n",
       "    <tr>\n",
       "      <th>3</th>\n",
       "      <td>10/21/2002</td>\n",
       "      <td>10:00</td>\n",
       "      <td>10.3402</td>\n",
       "      <td>10.3535</td>\n",
       "      <td>10.3197</td>\n",
       "      <td>10.3367</td>\n",
       "      <td>0</td>\n",
       "      <td>0</td>\n",
       "    </tr>\n",
       "    <tr>\n",
       "      <th>4</th>\n",
       "      <td>10/21/2002</td>\n",
       "      <td>10:30</td>\n",
       "      <td>10.3297</td>\n",
       "      <td>10.3552</td>\n",
       "      <td>10.3197</td>\n",
       "      <td>10.3432</td>\n",
       "      <td>0</td>\n",
       "      <td>0</td>\n",
       "    </tr>\n",
       "  </tbody>\n",
       "</table>\n",
       "</div>"
      ],
      "text/plain": [
       "         Date   Time     Open     High      Low    Close  Up  Down\n",
       "0  10/21/2002  08:30  10.3397  10.3497  10.3147  10.3167   0     0\n",
       "1  10/21/2002  09:00  10.3397  10.3397  10.2867  10.3197   0     0\n",
       "2  10/21/2002  09:30  10.2997  10.3452  10.2997  10.3197   0     0\n",
       "3  10/21/2002  10:00  10.3402  10.3535  10.3197  10.3367   0     0\n",
       "4  10/21/2002  10:30  10.3297  10.3552  10.3197  10.3432   0     0"
      ]
     },
     "execution_count": 8,
     "metadata": {},
     "output_type": "execute_result"
    }
   ],
   "source": [
    "# load data and show first 5 rows\n",
    "df = pd.read_csv('usdzar_30m.txt')\n",
    "df.head()"
   ]
  },
  {
   "cell_type": "code",
   "execution_count": 9,
   "metadata": {},
   "outputs": [
    {
     "name": "stdout",
     "output_type": "stream",
     "text": [
      "<class 'pandas.core.frame.DataFrame'>\n",
      "RangeIndex: 248736 entries, 0 to 248735\n",
      "Data columns (total 8 columns):\n",
      " #   Column  Non-Null Count   Dtype  \n",
      "---  ------  --------------   -----  \n",
      " 0   Date    248736 non-null  object \n",
      " 1   Time    248736 non-null  object \n",
      " 2   Open    248736 non-null  float64\n",
      " 3   High    248736 non-null  float64\n",
      " 4   Low     248736 non-null  float64\n",
      " 5   Close   248736 non-null  float64\n",
      " 6   Up      248736 non-null  int64  \n",
      " 7   Down    248736 non-null  int64  \n",
      "dtypes: float64(4), int64(2), object(2)\n",
      "memory usage: 15.2+ MB\n"
     ]
    }
   ],
   "source": [
    "# check data types\n",
    "df.info()"
   ]
  },
  {
   "cell_type": "code",
   "execution_count": 10,
   "metadata": {},
   "outputs": [],
   "source": [
    "# create string containing date and time\n",
    "df['Date'] = df['Date'] + ' ' + df['Time']"
   ]
  },
  {
   "cell_type": "code",
   "execution_count": 11,
   "metadata": {},
   "outputs": [],
   "source": [
    "# convert string to datetime (call it \"Time\", seen in backtesting library docs but Date should work too)\n",
    "df['Time'] = pd.to_datetime(df['Date'])"
   ]
  },
  {
   "cell_type": "code",
   "execution_count": 12,
   "metadata": {},
   "outputs": [],
   "source": [
    "# drop unnecessary columns\n",
    "df = df.drop(['Up', 'Down', 'Date'], axis = 1)"
   ]
  },
  {
   "cell_type": "code",
   "execution_count": 13,
   "metadata": {},
   "outputs": [
    {
     "data": {
      "text/html": [
       "<div>\n",
       "<style scoped>\n",
       "    .dataframe tbody tr th:only-of-type {\n",
       "        vertical-align: middle;\n",
       "    }\n",
       "\n",
       "    .dataframe tbody tr th {\n",
       "        vertical-align: top;\n",
       "    }\n",
       "\n",
       "    .dataframe thead th {\n",
       "        text-align: right;\n",
       "    }\n",
       "</style>\n",
       "<table border=\"1\" class=\"dataframe\">\n",
       "  <thead>\n",
       "    <tr style=\"text-align: right;\">\n",
       "      <th></th>\n",
       "      <th>Time</th>\n",
       "      <th>Open</th>\n",
       "      <th>High</th>\n",
       "      <th>Low</th>\n",
       "      <th>Close</th>\n",
       "    </tr>\n",
       "  </thead>\n",
       "  <tbody>\n",
       "    <tr>\n",
       "      <th>0</th>\n",
       "      <td>2002-10-21 08:30:00</td>\n",
       "      <td>10.3397</td>\n",
       "      <td>10.3497</td>\n",
       "      <td>10.3147</td>\n",
       "      <td>10.3167</td>\n",
       "    </tr>\n",
       "    <tr>\n",
       "      <th>1</th>\n",
       "      <td>2002-10-21 09:00:00</td>\n",
       "      <td>10.3397</td>\n",
       "      <td>10.3397</td>\n",
       "      <td>10.2867</td>\n",
       "      <td>10.3197</td>\n",
       "    </tr>\n",
       "    <tr>\n",
       "      <th>2</th>\n",
       "      <td>2002-10-21 09:30:00</td>\n",
       "      <td>10.2997</td>\n",
       "      <td>10.3452</td>\n",
       "      <td>10.2997</td>\n",
       "      <td>10.3197</td>\n",
       "    </tr>\n",
       "    <tr>\n",
       "      <th>3</th>\n",
       "      <td>2002-10-21 10:00:00</td>\n",
       "      <td>10.3402</td>\n",
       "      <td>10.3535</td>\n",
       "      <td>10.3197</td>\n",
       "      <td>10.3367</td>\n",
       "    </tr>\n",
       "    <tr>\n",
       "      <th>4</th>\n",
       "      <td>2002-10-21 10:30:00</td>\n",
       "      <td>10.3297</td>\n",
       "      <td>10.3552</td>\n",
       "      <td>10.3197</td>\n",
       "      <td>10.3432</td>\n",
       "    </tr>\n",
       "  </tbody>\n",
       "</table>\n",
       "</div>"
      ],
      "text/plain": [
       "                 Time     Open     High      Low    Close\n",
       "0 2002-10-21 08:30:00  10.3397  10.3497  10.3147  10.3167\n",
       "1 2002-10-21 09:00:00  10.3397  10.3397  10.2867  10.3197\n",
       "2 2002-10-21 09:30:00  10.2997  10.3452  10.2997  10.3197\n",
       "3 2002-10-21 10:00:00  10.3402  10.3535  10.3197  10.3367\n",
       "4 2002-10-21 10:30:00  10.3297  10.3552  10.3197  10.3432"
      ]
     },
     "execution_count": 13,
     "metadata": {},
     "output_type": "execute_result"
    }
   ],
   "source": [
    "# show first 5 rows\n",
    "df.head()"
   ]
  },
  {
   "cell_type": "code",
   "execution_count": 14,
   "metadata": {},
   "outputs": [],
   "source": [
    "# set index to \"Time\"\n",
    "df = df.set_index('Time', drop = True)"
   ]
  },
  {
   "cell_type": "code",
   "execution_count": 15,
   "metadata": {},
   "outputs": [],
   "source": [
    "# split into train and test\n",
    "date_split = dt.datetime(2023, 1, 1, 0, 0, 0) # data per separare\n",
    "train = df.loc[:date_split, :] # selezionare dati precedenti\n",
    "test = df.loc[date_split:, :] # selezionare dati successivi"
   ]
  },
  {
   "cell_type": "code",
   "execution_count": 16,
   "metadata": {},
   "outputs": [
    {
     "name": "stdout",
     "output_type": "stream",
     "text": [
      "len train: 233421, len test: 15315\n"
     ]
    }
   ],
   "source": [
    "# show lengths of train and test\n",
    "print(f'len train: {len(train)}, len test: {len(test)}')"
   ]
  },
  {
   "cell_type": "code",
   "execution_count": 17,
   "metadata": {},
   "outputs": [
    {
     "data": {
      "text/html": [
       "<div>\n",
       "<style scoped>\n",
       "    .dataframe tbody tr th:only-of-type {\n",
       "        vertical-align: middle;\n",
       "    }\n",
       "\n",
       "    .dataframe tbody tr th {\n",
       "        vertical-align: top;\n",
       "    }\n",
       "\n",
       "    .dataframe thead th {\n",
       "        text-align: right;\n",
       "    }\n",
       "</style>\n",
       "<table border=\"1\" class=\"dataframe\">\n",
       "  <thead>\n",
       "    <tr style=\"text-align: right;\">\n",
       "      <th></th>\n",
       "      <th>Open</th>\n",
       "      <th>High</th>\n",
       "      <th>Low</th>\n",
       "      <th>Close</th>\n",
       "    </tr>\n",
       "    <tr>\n",
       "      <th>Time</th>\n",
       "      <th></th>\n",
       "      <th></th>\n",
       "      <th></th>\n",
       "      <th></th>\n",
       "    </tr>\n",
       "  </thead>\n",
       "  <tbody>\n",
       "    <tr>\n",
       "      <th>2002-10-21 08:30:00</th>\n",
       "      <td>10.3397</td>\n",
       "      <td>10.3497</td>\n",
       "      <td>10.3147</td>\n",
       "      <td>10.3167</td>\n",
       "    </tr>\n",
       "    <tr>\n",
       "      <th>2002-10-21 09:00:00</th>\n",
       "      <td>10.3397</td>\n",
       "      <td>10.3397</td>\n",
       "      <td>10.2867</td>\n",
       "      <td>10.3197</td>\n",
       "    </tr>\n",
       "    <tr>\n",
       "      <th>2002-10-21 09:30:00</th>\n",
       "      <td>10.2997</td>\n",
       "      <td>10.3452</td>\n",
       "      <td>10.2997</td>\n",
       "      <td>10.3197</td>\n",
       "    </tr>\n",
       "    <tr>\n",
       "      <th>2002-10-21 10:00:00</th>\n",
       "      <td>10.3402</td>\n",
       "      <td>10.3535</td>\n",
       "      <td>10.3197</td>\n",
       "      <td>10.3367</td>\n",
       "    </tr>\n",
       "    <tr>\n",
       "      <th>2002-10-21 10:30:00</th>\n",
       "      <td>10.3297</td>\n",
       "      <td>10.3552</td>\n",
       "      <td>10.3197</td>\n",
       "      <td>10.3432</td>\n",
       "    </tr>\n",
       "  </tbody>\n",
       "</table>\n",
       "</div>"
      ],
      "text/plain": [
       "                        Open     High      Low    Close\n",
       "Time                                                   \n",
       "2002-10-21 08:30:00  10.3397  10.3497  10.3147  10.3167\n",
       "2002-10-21 09:00:00  10.3397  10.3397  10.2867  10.3197\n",
       "2002-10-21 09:30:00  10.2997  10.3452  10.2997  10.3197\n",
       "2002-10-21 10:00:00  10.3402  10.3535  10.3197  10.3367\n",
       "2002-10-21 10:30:00  10.3297  10.3552  10.3197  10.3432"
      ]
     },
     "execution_count": 17,
     "metadata": {},
     "output_type": "execute_result"
    }
   ],
   "source": [
    "# show first 5 rows of train\n",
    "train.head()"
   ]
  },
  {
   "cell_type": "code",
   "execution_count": 18,
   "metadata": {},
   "outputs": [
    {
     "data": {
      "text/plain": [
       "Start                     2020-07-09 04:00:00\n",
       "End                       2022-12-30 22:59:00\n",
       "Duration                    904 days 18:59:00\n",
       "Exposure Time [%]                    53.95364\n",
       "Equity Final [$]                 20479.793408\n",
       "Equity Peak [$]                  20709.772241\n",
       "Return [%]                         104.797934\n",
       "Buy & Hold Return [%]                0.379785\n",
       "Return (Ann.) [%]                   26.832048\n",
       "Volatility (Ann.) [%]               13.989175\n",
       "Sharpe Ratio                         1.918058\n",
       "Sortino Ratio                         4.47233\n",
       "Calmar Ratio                         3.043296\n",
       "Max. Drawdown [%]                   -8.816773\n",
       "Avg. Drawdown [%]                   -0.507892\n",
       "Max. Drawdown Duration      154 days 13:30:00\n",
       "Avg. Drawdown Duration        2 days 09:57:00\n",
       "# Trades                                  209\n",
       "Win Rate [%]                        48.803828\n",
       "Best Trade [%]                       4.536003\n",
       "Worst Trade [%]                     -1.914063\n",
       "Avg. Trade [%]                       0.343766\n",
       "Max. Trade Duration          13 days 22:00:00\n",
       "Avg. Trade Duration           2 days 07:01:00\n",
       "Profit Factor                        2.016407\n",
       "Expectancy [%]                       0.352837\n",
       "SQN                                  3.787039\n",
       "_strategy                     BollingerSrMean\n",
       "_equity_curve                             ...\n",
       "_trades                        Size  Entry...\n",
       "dtype: object"
      ]
     },
     "execution_count": 18,
     "metadata": {},
     "output_type": "execute_result"
    }
   ],
   "source": [
    "# run backtest on full train data\n",
    "bt = Backtest(train[-len(test)*2:], BollingerSrMean, cash=10_000, commission=.002) # commisioni a 0.002 (forse troppo basse)\n",
    "stats = bt.run()\n",
    "stats"
   ]
  },
  {
   "cell_type": "code",
   "execution_count": 32,
   "metadata": {},
   "outputs": [
    {
     "name": "stderr",
     "output_type": "stream",
     "text": [
      "c:\\Users\\lepol\\AppData\\Local\\Programs\\Python\\Python311\\Lib\\site-packages\\backtesting\\_plotting.py:250: BokehDeprecationWarning:\n",
      "\n",
      "Passing lists of formats for DatetimeTickFormatter scales was deprecated in Bokeh 3.0. Configure a single string format for each scale\n",
      "\n",
      "c:\\Users\\lepol\\AppData\\Local\\Programs\\Python\\Python311\\Lib\\site-packages\\backtesting\\_plotting.py:250: UserWarning:\n",
      "\n",
      "DatetimeFormatter scales now only accept a single format. Using the first provided: '%d %b'\n",
      "\n",
      "c:\\Users\\lepol\\AppData\\Local\\Programs\\Python\\Python311\\Lib\\site-packages\\backtesting\\_plotting.py:250: BokehDeprecationWarning:\n",
      "\n",
      "Passing lists of formats for DatetimeTickFormatter scales was deprecated in Bokeh 3.0. Configure a single string format for each scale\n",
      "\n",
      "c:\\Users\\lepol\\AppData\\Local\\Programs\\Python\\Python311\\Lib\\site-packages\\backtesting\\_plotting.py:250: UserWarning:\n",
      "\n",
      "DatetimeFormatter scales now only accept a single format. Using the first provided: '%m/%Y'\n",
      "\n",
      "c:\\Users\\lepol\\AppData\\Local\\Programs\\Python\\Python311\\Lib\\site-packages\\backtesting\\_plotting.py:659: UserWarning:\n",
      "\n",
      "found multiple competing values for 'toolbar.active_drag' property; using the latest value\n",
      "\n",
      "c:\\Users\\lepol\\AppData\\Local\\Programs\\Python\\Python311\\Lib\\site-packages\\backtesting\\_plotting.py:659: UserWarning:\n",
      "\n",
      "found multiple competing values for 'toolbar.active_scroll' property; using the latest value\n",
      "\n"
     ]
    },
    {
     "data": {
      "text/html": [
       "<div style=\"display: table;\"><div style=\"display: table-row;\"><div style=\"display: table-cell;\"><b title=\"bokeh.models.plots.GridPlot\">GridPlot</b>(</div><div style=\"display: table-cell;\">id&nbsp;=&nbsp;'p1311', <span id=\"p1345\" style=\"cursor: pointer;\">&hellip;)</span></div></div><div class=\"p1344\" style=\"display: none;\"><div style=\"display: table-cell;\"></div><div style=\"display: table-cell;\">align&nbsp;=&nbsp;'auto',</div></div><div class=\"p1344\" style=\"display: none;\"><div style=\"display: table-cell;\"></div><div style=\"display: table-cell;\">aspect_ratio&nbsp;=&nbsp;None,</div></div><div class=\"p1344\" style=\"display: none;\"><div style=\"display: table-cell;\"></div><div style=\"display: table-cell;\">children&nbsp;=&nbsp;[(figure(id='p1046', ...), 0, 0), (figure(id='p1143', ...), 1, 0), (figure(id='p1002', ...), 2, 0)],</div></div><div class=\"p1344\" style=\"display: none;\"><div style=\"display: table-cell;\"></div><div style=\"display: table-cell;\">cols&nbsp;=&nbsp;None,</div></div><div class=\"p1344\" style=\"display: none;\"><div style=\"display: table-cell;\"></div><div style=\"display: table-cell;\">context_menu&nbsp;=&nbsp;None,</div></div><div class=\"p1344\" style=\"display: none;\"><div style=\"display: table-cell;\"></div><div style=\"display: table-cell;\">css_classes&nbsp;=&nbsp;[],</div></div><div class=\"p1344\" style=\"display: none;\"><div style=\"display: table-cell;\"></div><div style=\"display: table-cell;\">css_variables&nbsp;=&nbsp;{},</div></div><div class=\"p1344\" style=\"display: none;\"><div style=\"display: table-cell;\"></div><div style=\"display: table-cell;\">disabled&nbsp;=&nbsp;False,</div></div><div class=\"p1344\" style=\"display: none;\"><div style=\"display: table-cell;\"></div><div style=\"display: table-cell;\">elements&nbsp;=&nbsp;[],</div></div><div class=\"p1344\" style=\"display: none;\"><div style=\"display: table-cell;\"></div><div style=\"display: table-cell;\">flow_mode&nbsp;=&nbsp;'block',</div></div><div class=\"p1344\" style=\"display: none;\"><div style=\"display: table-cell;\"></div><div style=\"display: table-cell;\">height&nbsp;=&nbsp;None,</div></div><div class=\"p1344\" style=\"display: none;\"><div style=\"display: table-cell;\"></div><div style=\"display: table-cell;\">height_policy&nbsp;=&nbsp;'auto',</div></div><div class=\"p1344\" style=\"display: none;\"><div style=\"display: table-cell;\"></div><div style=\"display: table-cell;\">js_event_callbacks&nbsp;=&nbsp;{},</div></div><div class=\"p1344\" style=\"display: none;\"><div style=\"display: table-cell;\"></div><div style=\"display: table-cell;\">js_property_callbacks&nbsp;=&nbsp;{},</div></div><div class=\"p1344\" style=\"display: none;\"><div style=\"display: table-cell;\"></div><div style=\"display: table-cell;\">margin&nbsp;=&nbsp;None,</div></div><div class=\"p1344\" style=\"display: none;\"><div style=\"display: table-cell;\"></div><div style=\"display: table-cell;\">max_height&nbsp;=&nbsp;None,</div></div><div class=\"p1344\" style=\"display: none;\"><div style=\"display: table-cell;\"></div><div style=\"display: table-cell;\">max_width&nbsp;=&nbsp;None,</div></div><div class=\"p1344\" style=\"display: none;\"><div style=\"display: table-cell;\"></div><div style=\"display: table-cell;\">min_height&nbsp;=&nbsp;None,</div></div><div class=\"p1344\" style=\"display: none;\"><div style=\"display: table-cell;\"></div><div style=\"display: table-cell;\">min_width&nbsp;=&nbsp;None,</div></div><div class=\"p1344\" style=\"display: none;\"><div style=\"display: table-cell;\"></div><div style=\"display: table-cell;\">name&nbsp;=&nbsp;None,</div></div><div class=\"p1344\" style=\"display: none;\"><div style=\"display: table-cell;\"></div><div style=\"display: table-cell;\">resizable&nbsp;=&nbsp;False,</div></div><div class=\"p1344\" style=\"display: none;\"><div style=\"display: table-cell;\"></div><div style=\"display: table-cell;\">rows&nbsp;=&nbsp;None,</div></div><div class=\"p1344\" style=\"display: none;\"><div style=\"display: table-cell;\"></div><div style=\"display: table-cell;\">sizing_mode&nbsp;=&nbsp;'stretch_width',</div></div><div class=\"p1344\" style=\"display: none;\"><div style=\"display: table-cell;\"></div><div style=\"display: table-cell;\">spacing&nbsp;=&nbsp;0,</div></div><div class=\"p1344\" style=\"display: none;\"><div style=\"display: table-cell;\"></div><div style=\"display: table-cell;\">styles&nbsp;=&nbsp;{},</div></div><div class=\"p1344\" style=\"display: none;\"><div style=\"display: table-cell;\"></div><div style=\"display: table-cell;\">stylesheets&nbsp;=&nbsp;[],</div></div><div class=\"p1344\" style=\"display: none;\"><div style=\"display: table-cell;\"></div><div style=\"display: table-cell;\">subscribed_events&nbsp;=&nbsp;PropertyValueSet(),</div></div><div class=\"p1344\" style=\"display: none;\"><div style=\"display: table-cell;\"></div><div style=\"display: table-cell;\">syncable&nbsp;=&nbsp;True,</div></div><div class=\"p1344\" style=\"display: none;\"><div style=\"display: table-cell;\"></div><div style=\"display: table-cell;\">tags&nbsp;=&nbsp;[],</div></div><div class=\"p1344\" style=\"display: none;\"><div style=\"display: table-cell;\"></div><div style=\"display: table-cell;\">toolbar&nbsp;=&nbsp;Toolbar(id='p1310', ...),</div></div><div class=\"p1344\" style=\"display: none;\"><div style=\"display: table-cell;\"></div><div style=\"display: table-cell;\">toolbar_location&nbsp;=&nbsp;'right',</div></div><div class=\"p1344\" style=\"display: none;\"><div style=\"display: table-cell;\"></div><div style=\"display: table-cell;\">visible&nbsp;=&nbsp;True,</div></div><div class=\"p1344\" style=\"display: none;\"><div style=\"display: table-cell;\"></div><div style=\"display: table-cell;\">width&nbsp;=&nbsp;None,</div></div><div class=\"p1344\" style=\"display: none;\"><div style=\"display: table-cell;\"></div><div style=\"display: table-cell;\">width_policy&nbsp;=&nbsp;'auto')</div></div></div>\n",
       "<script>\n",
       "(function() {\n",
       "  let expanded = false;\n",
       "  const ellipsis = document.getElementById(\"p1345\");\n",
       "  ellipsis.addEventListener(\"click\", function() {\n",
       "    const rows = document.getElementsByClassName(\"p1344\");\n",
       "    for (let i = 0; i < rows.length; i++) {\n",
       "      const el = rows[i];\n",
       "      el.style.display = expanded ? \"none\" : \"table-row\";\n",
       "    }\n",
       "    ellipsis.innerHTML = expanded ? \"&hellip;)\" : \"&lsaquo;&lsaquo;&lsaquo;\";\n",
       "    expanded = !expanded;\n",
       "  });\n",
       "})();\n",
       "</script>\n"
      ],
      "text/plain": [
       "GridPlot(id='p1311', ...)"
      ]
     },
     "execution_count": 32,
     "metadata": {},
     "output_type": "execute_result"
    }
   ],
   "source": [
    "# plot results\n",
    "# !!!ATTENTION!!!: because of high number of data points the plot may be slow to load and might crash/freeze the browser\n",
    "bt.plot(resample=False) # resample=False to show all data points and avoid errors (otherwise backtesting automatically resamples data, failing and returning an error)"
   ]
  },
  {
   "cell_type": "code",
   "execution_count": 33,
   "metadata": {},
   "outputs": [
    {
     "name": "stderr",
     "output_type": "stream",
     "text": [
      "c:\\Users\\lepol\\AppData\\Local\\Programs\\Python\\Python311\\Lib\\site-packages\\backtesting\\backtesting.py:1488: UserWarning:\n",
      "\n",
      "Searching for best of 39375 configurations.\n",
      "\n"
     ]
    },
    {
     "data": {
      "application/vnd.jupyter.widget-view+json": {
       "model_id": "888f910d9c05456c9caf620247167bf2",
       "version_major": 2,
       "version_minor": 0
      },
      "text/plain": [
       "  0%|          | 0/132 [00:00<?, ?it/s]"
      ]
     },
     "metadata": {},
     "output_type": "display_data"
    },
    {
     "name": "stderr",
     "output_type": "stream",
     "text": [
      "c:\\Users\\lepol\\AppData\\Local\\Programs\\Python\\Python311\\Lib\\site-packages\\backtesting\\_stats.py:122: RuntimeWarning:\n",
      "\n",
      "divide by zero encountered in scalar divide\n",
      "\n",
      "c:\\Users\\lepol\\AppData\\Local\\Programs\\Python\\Python311\\Lib\\site-packages\\backtesting\\_stats.py:122: RuntimeWarning:\n",
      "\n",
      "divide by zero encountered in scalar divide\n",
      "\n",
      "c:\\Users\\lepol\\AppData\\Local\\Programs\\Python\\Python311\\Lib\\site-packages\\backtesting\\_stats.py:122: RuntimeWarning:\n",
      "\n",
      "divide by zero encountered in scalar divide\n",
      "\n",
      "c:\\Users\\lepol\\AppData\\Local\\Programs\\Python\\Python311\\Lib\\site-packages\\backtesting\\_stats.py:122: RuntimeWarning:\n",
      "\n",
      "divide by zero encountered in scalar divide\n",
      "\n",
      "c:\\Users\\lepol\\AppData\\Local\\Programs\\Python\\Python311\\Lib\\site-packages\\backtesting\\_stats.py:122: RuntimeWarning:\n",
      "\n",
      "divide by zero encountered in scalar divide\n",
      "\n",
      "c:\\Users\\lepol\\AppData\\Local\\Programs\\Python\\Python311\\Lib\\site-packages\\backtesting\\_stats.py:122: RuntimeWarning:\n",
      "\n",
      "divide by zero encountered in scalar divide\n",
      "\n",
      "c:\\Users\\lepol\\AppData\\Local\\Programs\\Python\\Python311\\Lib\\site-packages\\backtesting\\_stats.py:122: RuntimeWarning:\n",
      "\n",
      "divide by zero encountered in scalar divide\n",
      "\n",
      "c:\\Users\\lepol\\AppData\\Local\\Programs\\Python\\Python311\\Lib\\site-packages\\backtesting\\_stats.py:122: RuntimeWarning:\n",
      "\n",
      "divide by zero encountered in scalar divide\n",
      "\n",
      "c:\\Users\\lepol\\AppData\\Local\\Programs\\Python\\Python311\\Lib\\site-packages\\backtesting\\_stats.py:122: RuntimeWarning:\n",
      "\n",
      "divide by zero encountered in scalar divide\n",
      "\n",
      "c:\\Users\\lepol\\AppData\\Local\\Programs\\Python\\Python311\\Lib\\site-packages\\backtesting\\_stats.py:122: RuntimeWarning:\n",
      "\n",
      "divide by zero encountered in scalar divide\n",
      "\n"
     ]
    },
    {
     "data": {
      "text/plain": [
       "Start                     2020-07-09 04:00:00\n",
       "End                       2022-12-30 22:59:00\n",
       "Duration                    904 days 18:59:00\n",
       "Exposure Time [%]                    53.95364\n",
       "Equity Final [$]                 20479.793408\n",
       "Equity Peak [$]                  20709.772241\n",
       "Return [%]                         104.797934\n",
       "Buy & Hold Return [%]                0.379785\n",
       "Return (Ann.) [%]                   26.832048\n",
       "Volatility (Ann.) [%]               13.989175\n",
       "Sharpe Ratio                         1.918058\n",
       "Sortino Ratio                         4.47233\n",
       "Calmar Ratio                         3.043296\n",
       "Max. Drawdown [%]                   -8.816773\n",
       "Avg. Drawdown [%]                   -0.507892\n",
       "Max. Drawdown Duration      154 days 13:30:00\n",
       "Avg. Drawdown Duration        2 days 09:57:00\n",
       "# Trades                                  209\n",
       "Win Rate [%]                        48.803828\n",
       "Best Trade [%]                       4.536003\n",
       "Worst Trade [%]                     -1.914063\n",
       "Avg. Trade [%]                       0.343766\n",
       "Max. Trade Duration          13 days 22:00:00\n",
       "Avg. Trade Duration           2 days 07:01:00\n",
       "Profit Factor                        2.016407\n",
       "Expectancy [%]                       0.352837\n",
       "SQN                                  3.787039\n",
       "_strategy                 BollingerSrMean(...\n",
       "_equity_curve                             ...\n",
       "_trades                        Size  Entry...\n",
       "dtype: object"
      ]
     },
     "execution_count": 33,
     "metadata": {},
     "output_type": "execute_result"
    }
   ],
   "source": [
    "# optimization, takes around an hour to run...LEAVE IT COMMENTED!!!\n",
    "\n",
    "stats = bt.optimize(horizon = [10, 15, 20, 25, 30],\n",
    "                    stop_loss = range(1, 8),\n",
    "                    n_std_upper = list(np.arange(1, 4, 0.2)),\n",
    "                    n_std_lower = list(np.arange(1, 4, 0.2)),\n",
    "                    n = [10, 15, 20, 25, 30],                \n",
    "                    maximize='Equity Final [$]' # risultato da massimizzare (per ora equity final, aspetto indicazioni)\n",
    ")\n",
    "stats"
   ]
  },
  {
   "cell_type": "code",
   "execution_count": 34,
   "metadata": {},
   "outputs": [
    {
     "data": {
      "text/plain": [
       "<Strategy BollingerSrMean(horizon=30,stop_loss=7,n_std_upper=2.9999999999999996,n_std_lower=2.8,n=10)>"
      ]
     },
     "execution_count": 34,
     "metadata": {},
     "output_type": "execute_result"
    }
   ],
   "source": [
    "stats._strategy"
   ]
  },
  {
   "cell_type": "code",
   "execution_count": 19,
   "metadata": {},
   "outputs": [
    {
     "data": {
      "text/plain": [
       "Start                     2023-01-02 00:30:00\n",
       "End                       2024-03-22 22:59:00\n",
       "Duration                    445 days 22:29:00\n",
       "Exposure Time [%]                   57.486125\n",
       "Equity Final [$]                 12474.732679\n",
       "Equity Peak [$]                  12973.173014\n",
       "Return [%]                          24.747327\n",
       "Buy & Hold Return [%]               11.886498\n",
       "Return (Ann.) [%]                   15.660496\n",
       "Volatility (Ann.) [%]               11.666351\n",
       "Sharpe Ratio                         1.342365\n",
       "Sortino Ratio                        2.580984\n",
       "Calmar Ratio                         1.571929\n",
       "Max. Drawdown [%]                   -9.962599\n",
       "Avg. Drawdown [%]                   -0.583845\n",
       "Max. Drawdown Duration      121 days 08:59:00\n",
       "Avg. Drawdown Duration        3 days 11:33:00\n",
       "# Trades                                  112\n",
       "Win Rate [%]                        46.428571\n",
       "Best Trade [%]                        4.68053\n",
       "Worst Trade [%]                     -1.642924\n",
       "Avg. Trade [%]                       0.197894\n",
       "Max. Trade Duration          11 days 23:30:00\n",
       "Avg. Trade Duration           2 days 06:32:00\n",
       "Profit Factor                        1.592165\n",
       "Expectancy [%]                       0.205259\n",
       "SQN                                  1.635005\n",
       "_strategy                     BollingerSrMean\n",
       "_equity_curve                             ...\n",
       "_trades                        Size  Entry...\n",
       "dtype: object"
      ]
     },
     "execution_count": 19,
     "metadata": {},
     "output_type": "execute_result"
    }
   ],
   "source": [
    "# validate on test data\n",
    "bt = Backtest(test, BollingerSrMean, cash=10_000, commission=.002) \n",
    "stats = bt.run()\n",
    "stats"
   ]
  },
  {
   "cell_type": "code",
   "execution_count": 20,
   "metadata": {},
   "outputs": [
    {
     "name": "stderr",
     "output_type": "stream",
     "text": [
      "c:\\Users\\lepol\\AppData\\Local\\Programs\\Python\\Python311\\Lib\\site-packages\\backtesting\\_plotting.py:250: BokehDeprecationWarning:\n",
      "\n",
      "Passing lists of formats for DatetimeTickFormatter scales was deprecated in Bokeh 3.0. Configure a single string format for each scale\n",
      "\n",
      "c:\\Users\\lepol\\AppData\\Local\\Programs\\Python\\Python311\\Lib\\site-packages\\backtesting\\_plotting.py:250: UserWarning:\n",
      "\n",
      "DatetimeFormatter scales now only accept a single format. Using the first provided: '%d %b'\n",
      "\n",
      "c:\\Users\\lepol\\AppData\\Local\\Programs\\Python\\Python311\\Lib\\site-packages\\backtesting\\_plotting.py:250: BokehDeprecationWarning:\n",
      "\n",
      "Passing lists of formats for DatetimeTickFormatter scales was deprecated in Bokeh 3.0. Configure a single string format for each scale\n",
      "\n",
      "c:\\Users\\lepol\\AppData\\Local\\Programs\\Python\\Python311\\Lib\\site-packages\\backtesting\\_plotting.py:250: UserWarning:\n",
      "\n",
      "DatetimeFormatter scales now only accept a single format. Using the first provided: '%m/%Y'\n",
      "\n",
      "c:\\Users\\lepol\\AppData\\Local\\Programs\\Python\\Python311\\Lib\\site-packages\\backtesting\\_plotting.py:659: UserWarning:\n",
      "\n",
      "found multiple competing values for 'toolbar.active_drag' property; using the latest value\n",
      "\n",
      "c:\\Users\\lepol\\AppData\\Local\\Programs\\Python\\Python311\\Lib\\site-packages\\backtesting\\_plotting.py:659: UserWarning:\n",
      "\n",
      "found multiple competing values for 'toolbar.active_scroll' property; using the latest value\n",
      "\n"
     ]
    },
    {
     "data": {
      "text/html": [
       "<div style=\"display: table;\"><div style=\"display: table-row;\"><div style=\"display: table-cell;\"><b title=\"bokeh.models.plots.GridPlot\">GridPlot</b>(</div><div style=\"display: table-cell;\">id&nbsp;=&nbsp;'p1311', <span id=\"p1345\" style=\"cursor: pointer;\">&hellip;)</span></div></div><div class=\"p1344\" style=\"display: none;\"><div style=\"display: table-cell;\"></div><div style=\"display: table-cell;\">align&nbsp;=&nbsp;'auto',</div></div><div class=\"p1344\" style=\"display: none;\"><div style=\"display: table-cell;\"></div><div style=\"display: table-cell;\">aspect_ratio&nbsp;=&nbsp;None,</div></div><div class=\"p1344\" style=\"display: none;\"><div style=\"display: table-cell;\"></div><div style=\"display: table-cell;\">children&nbsp;=&nbsp;[(figure(id='p1046', ...), 0, 0), (figure(id='p1143', ...), 1, 0), (figure(id='p1002', ...), 2, 0)],</div></div><div class=\"p1344\" style=\"display: none;\"><div style=\"display: table-cell;\"></div><div style=\"display: table-cell;\">cols&nbsp;=&nbsp;None,</div></div><div class=\"p1344\" style=\"display: none;\"><div style=\"display: table-cell;\"></div><div style=\"display: table-cell;\">context_menu&nbsp;=&nbsp;None,</div></div><div class=\"p1344\" style=\"display: none;\"><div style=\"display: table-cell;\"></div><div style=\"display: table-cell;\">css_classes&nbsp;=&nbsp;[],</div></div><div class=\"p1344\" style=\"display: none;\"><div style=\"display: table-cell;\"></div><div style=\"display: table-cell;\">css_variables&nbsp;=&nbsp;{},</div></div><div class=\"p1344\" style=\"display: none;\"><div style=\"display: table-cell;\"></div><div style=\"display: table-cell;\">disabled&nbsp;=&nbsp;False,</div></div><div class=\"p1344\" style=\"display: none;\"><div style=\"display: table-cell;\"></div><div style=\"display: table-cell;\">elements&nbsp;=&nbsp;[],</div></div><div class=\"p1344\" style=\"display: none;\"><div style=\"display: table-cell;\"></div><div style=\"display: table-cell;\">flow_mode&nbsp;=&nbsp;'block',</div></div><div class=\"p1344\" style=\"display: none;\"><div style=\"display: table-cell;\"></div><div style=\"display: table-cell;\">height&nbsp;=&nbsp;None,</div></div><div class=\"p1344\" style=\"display: none;\"><div style=\"display: table-cell;\"></div><div style=\"display: table-cell;\">height_policy&nbsp;=&nbsp;'auto',</div></div><div class=\"p1344\" style=\"display: none;\"><div style=\"display: table-cell;\"></div><div style=\"display: table-cell;\">js_event_callbacks&nbsp;=&nbsp;{},</div></div><div class=\"p1344\" style=\"display: none;\"><div style=\"display: table-cell;\"></div><div style=\"display: table-cell;\">js_property_callbacks&nbsp;=&nbsp;{},</div></div><div class=\"p1344\" style=\"display: none;\"><div style=\"display: table-cell;\"></div><div style=\"display: table-cell;\">margin&nbsp;=&nbsp;None,</div></div><div class=\"p1344\" style=\"display: none;\"><div style=\"display: table-cell;\"></div><div style=\"display: table-cell;\">max_height&nbsp;=&nbsp;None,</div></div><div class=\"p1344\" style=\"display: none;\"><div style=\"display: table-cell;\"></div><div style=\"display: table-cell;\">max_width&nbsp;=&nbsp;None,</div></div><div class=\"p1344\" style=\"display: none;\"><div style=\"display: table-cell;\"></div><div style=\"display: table-cell;\">min_height&nbsp;=&nbsp;None,</div></div><div class=\"p1344\" style=\"display: none;\"><div style=\"display: table-cell;\"></div><div style=\"display: table-cell;\">min_width&nbsp;=&nbsp;None,</div></div><div class=\"p1344\" style=\"display: none;\"><div style=\"display: table-cell;\"></div><div style=\"display: table-cell;\">name&nbsp;=&nbsp;None,</div></div><div class=\"p1344\" style=\"display: none;\"><div style=\"display: table-cell;\"></div><div style=\"display: table-cell;\">resizable&nbsp;=&nbsp;False,</div></div><div class=\"p1344\" style=\"display: none;\"><div style=\"display: table-cell;\"></div><div style=\"display: table-cell;\">rows&nbsp;=&nbsp;None,</div></div><div class=\"p1344\" style=\"display: none;\"><div style=\"display: table-cell;\"></div><div style=\"display: table-cell;\">sizing_mode&nbsp;=&nbsp;'stretch_width',</div></div><div class=\"p1344\" style=\"display: none;\"><div style=\"display: table-cell;\"></div><div style=\"display: table-cell;\">spacing&nbsp;=&nbsp;0,</div></div><div class=\"p1344\" style=\"display: none;\"><div style=\"display: table-cell;\"></div><div style=\"display: table-cell;\">styles&nbsp;=&nbsp;{},</div></div><div class=\"p1344\" style=\"display: none;\"><div style=\"display: table-cell;\"></div><div style=\"display: table-cell;\">stylesheets&nbsp;=&nbsp;[],</div></div><div class=\"p1344\" style=\"display: none;\"><div style=\"display: table-cell;\"></div><div style=\"display: table-cell;\">subscribed_events&nbsp;=&nbsp;PropertyValueSet(),</div></div><div class=\"p1344\" style=\"display: none;\"><div style=\"display: table-cell;\"></div><div style=\"display: table-cell;\">syncable&nbsp;=&nbsp;True,</div></div><div class=\"p1344\" style=\"display: none;\"><div style=\"display: table-cell;\"></div><div style=\"display: table-cell;\">tags&nbsp;=&nbsp;[],</div></div><div class=\"p1344\" style=\"display: none;\"><div style=\"display: table-cell;\"></div><div style=\"display: table-cell;\">toolbar&nbsp;=&nbsp;Toolbar(id='p1310', ...),</div></div><div class=\"p1344\" style=\"display: none;\"><div style=\"display: table-cell;\"></div><div style=\"display: table-cell;\">toolbar_location&nbsp;=&nbsp;'right',</div></div><div class=\"p1344\" style=\"display: none;\"><div style=\"display: table-cell;\"></div><div style=\"display: table-cell;\">visible&nbsp;=&nbsp;True,</div></div><div class=\"p1344\" style=\"display: none;\"><div style=\"display: table-cell;\"></div><div style=\"display: table-cell;\">width&nbsp;=&nbsp;None,</div></div><div class=\"p1344\" style=\"display: none;\"><div style=\"display: table-cell;\"></div><div style=\"display: table-cell;\">width_policy&nbsp;=&nbsp;'auto')</div></div></div>\n",
       "<script>\n",
       "(function() {\n",
       "  let expanded = false;\n",
       "  const ellipsis = document.getElementById(\"p1345\");\n",
       "  ellipsis.addEventListener(\"click\", function() {\n",
       "    const rows = document.getElementsByClassName(\"p1344\");\n",
       "    for (let i = 0; i < rows.length; i++) {\n",
       "      const el = rows[i];\n",
       "      el.style.display = expanded ? \"none\" : \"table-row\";\n",
       "    }\n",
       "    ellipsis.innerHTML = expanded ? \"&hellip;)\" : \"&lsaquo;&lsaquo;&lsaquo;\";\n",
       "    expanded = !expanded;\n",
       "  });\n",
       "})();\n",
       "</script>\n"
      ],
      "text/plain": [
       "GridPlot(id='p1311', ...)"
      ]
     },
     "execution_count": 20,
     "metadata": {},
     "output_type": "execute_result"
    }
   ],
   "source": [
    "# plot test results\n",
    "bt.plot(resample=False) # resample=False to show all data points and avoid errors (otherwise backtesting automatically resamples data, failing and returning an error)"
   ]
  }
 ],
 "metadata": {
  "kernelspec": {
   "display_name": "Python 3",
   "language": "python",
   "name": "python3"
  },
  "language_info": {
   "codemirror_mode": {
    "name": "ipython",
    "version": 3
   },
   "file_extension": ".py",
   "mimetype": "text/x-python",
   "name": "python",
   "nbconvert_exporter": "python",
   "pygments_lexer": "ipython3",
   "version": "3.11.0"
  }
 },
 "nbformat": 4,
 "nbformat_minor": 2
}
